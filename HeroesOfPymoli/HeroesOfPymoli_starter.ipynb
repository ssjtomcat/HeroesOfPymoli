{
 "cells": [
  {
   "cell_type": "markdown",
   "metadata": {},
   "source": [
    "### Heroes Of Pymoli Data Analysis\n",
    "* Of the 1163 active players, the vast majority are male (84%). There also exists, a smaller, but notable proportion of female players (14%).\n",
    "\n",
    "* Our peak age demographic falls between 20-24 (44.8%) with secondary groups falling between 15-19 (18.60%) and 25-29 (13.4%).  \n",
    "-----"
   ]
  },
  {
   "cell_type": "markdown",
   "metadata": {},
   "source": [
    "### Note\n",
    "* Instructions have been included for each segment. You do not have to follow them exactly, but they are included to help you think through the steps."
   ]
  },
  {
   "cell_type": "code",
   "execution_count": 179,
   "metadata": {},
   "outputs": [],
   "source": [
    "# Dependencies and Setup\n",
    "import pandas as pd\n",
    "import numpy as np\n",
    "\n",
    "# File to Load (Remember to Change These)\n",
    "file_to_load = \"Resources/purchase_data.csv\"\n",
    "\n",
    "# Read Purchasing File and store into Pandas data frame\n",
    "purchase_data_df = pd.read_csv(file_to_load)"
   ]
  },
  {
   "cell_type": "markdown",
   "metadata": {},
   "source": [
    "## Player Count"
   ]
  },
  {
   "cell_type": "markdown",
   "metadata": {},
   "source": [
    "* Display the total number of players\n"
   ]
  },
  {
   "cell_type": "code",
   "execution_count": 180,
   "metadata": {},
   "outputs": [
    {
     "data": {
      "text/html": [
       "<div>\n",
       "<style scoped>\n",
       "    .dataframe tbody tr th:only-of-type {\n",
       "        vertical-align: middle;\n",
       "    }\n",
       "\n",
       "    .dataframe tbody tr th {\n",
       "        vertical-align: top;\n",
       "    }\n",
       "\n",
       "    .dataframe thead th {\n",
       "        text-align: right;\n",
       "    }\n",
       "</style>\n",
       "<table border=\"1\" class=\"dataframe\">\n",
       "  <thead>\n",
       "    <tr style=\"text-align: right;\">\n",
       "      <th></th>\n",
       "      <th>Total Players</th>\n",
       "    </tr>\n",
       "  </thead>\n",
       "  <tbody>\n",
       "    <tr>\n",
       "      <th>0</th>\n",
       "      <td>576</td>\n",
       "    </tr>\n",
       "  </tbody>\n",
       "</table>\n",
       "</div>"
      ],
      "text/plain": [
       "   Total Players\n",
       "0            576"
      ]
     },
     "execution_count": 180,
     "metadata": {},
     "output_type": "execute_result"
    }
   ],
   "source": [
    "# Find the total number of players\n",
    "total_diff_players = purchase_data[\"SN\"].nunique()\n",
    "\n",
    "\n",
    "# Create DataFrame for total number of players\n",
    "total_diff_players_df = pd.DataFrame({\"Total Players\": [total_diff_players]})\n",
    "\n",
    "total_diff_players_df"
   ]
  },
  {
   "cell_type": "markdown",
   "metadata": {},
   "source": [
    "## Purchasing Analysis (Total)"
   ]
  },
  {
   "cell_type": "markdown",
   "metadata": {},
   "source": [
    "* Run basic calculations to obtain number of unique items, average price, etc.\n",
    "\n",
    "\n",
    "* Create a summary data frame to hold the results\n",
    "\n",
    "\n",
    "* Optional: give the displayed data cleaner formatting\n",
    "\n",
    "\n",
    "* Display the summary data frame\n"
   ]
  },
  {
   "cell_type": "code",
   "execution_count": 181,
   "metadata": {
    "scrolled": true
   },
   "outputs": [
    {
     "data": {
      "text/html": [
       "<style  type=\"text/css\" >\n",
       "</style>  \n",
       "<table id=\"T_775d4dc0_2d4c_11e9_8322_30243223aeff\" > \n",
       "<thead>    <tr> \n",
       "        <th class=\"blank level0\" ></th> \n",
       "        <th class=\"col_heading level0 col0\" >Number of Unique Items</th> \n",
       "        <th class=\"col_heading level0 col1\" >Average Price</th> \n",
       "        <th class=\"col_heading level0 col2\" >Number of Purchases</th> \n",
       "        <th class=\"col_heading level0 col3\" >Total Revenue</th> \n",
       "    </tr></thead> \n",
       "<tbody>    <tr> \n",
       "        <th id=\"T_775d4dc0_2d4c_11e9_8322_30243223aefflevel0_row0\" class=\"row_heading level0 row0\" >0</th> \n",
       "        <td id=\"T_775d4dc0_2d4c_11e9_8322_30243223aeffrow0_col0\" class=\"data row0 col0\" >183</td> \n",
       "        <td id=\"T_775d4dc0_2d4c_11e9_8322_30243223aeffrow0_col1\" class=\"data row0 col1\" >$3.05</td> \n",
       "        <td id=\"T_775d4dc0_2d4c_11e9_8322_30243223aeffrow0_col2\" class=\"data row0 col2\" >780</td> \n",
       "        <td id=\"T_775d4dc0_2d4c_11e9_8322_30243223aeffrow0_col3\" class=\"data row0 col3\" >$2379.77</td> \n",
       "    </tr></tbody> \n",
       "</table> "
      ],
      "text/plain": [
       "<pandas.io.formats.style.Styler at 0x231ff5623c8>"
      ]
     },
     "execution_count": 181,
     "metadata": {},
     "output_type": "execute_result"
    }
   ],
   "source": [
    "# Find the number of unique items, average price, number of purchases, and total revenue\n",
    "uniqueitems = purchase_data_df[\"Item ID\"].nunique()\n",
    "average_price = (purchase_data_df[\"Price\"].sum() / purchase_data[\"Price\"].count()).round(2)\n",
    "total_number_purchases = purchase_data_df[\"Price\"].count()\n",
    "total_revenue = purchase_data_df[\"Price\"].sum()\n",
    "\n",
    "# Create DataFrame\n",
    "purchasing_analysis_df = pd.DataFrame({\"Number of Unique Items\": [uniqueitems],\n",
    "                                     \"Average Price\": [average_price],\n",
    "                                     \"Number of Purchases\": [total_number_purchases],\n",
    "                                     \"Total Revenue\": [total_revenue]})\n",
    "\n",
    "# Format Average Price and Total Revenue\n",
    "purchasing_analysis_df.style.format({\"Average Price\": \"${:.2f}\", \"Total Revenue\": \"${:.2f}\"})"
   ]
  },
  {
   "cell_type": "markdown",
   "metadata": {},
   "source": [
    "## Gender Demographics"
   ]
  },
  {
   "cell_type": "markdown",
   "metadata": {},
   "source": [
    "* Percentage and Count of Male Players\n",
    "\n",
    "\n",
    "* Percentage and Count of Female Players\n",
    "\n",
    "\n",
    "* Percentage and Count of Other / Non-Disclosed\n",
    "\n",
    "\n"
   ]
  },
  {
   "cell_type": "code",
   "execution_count": 182,
   "metadata": {},
   "outputs": [
    {
     "data": {
      "text/html": [
       "<style  type=\"text/css\" >\n",
       "</style>  \n",
       "<table id=\"T_77619090_2d4c_11e9_8a0f_30243223aeff\" > \n",
       "<thead>    <tr> \n",
       "        <th class=\"blank level0\" ></th> \n",
       "        <th class=\"col_heading level0 col0\" >Total Count</th> \n",
       "        <th class=\"col_heading level0 col1\" >Percentage of Players</th> \n",
       "    </tr>    <tr> \n",
       "        <th class=\"index_name level0\" >Gender</th> \n",
       "        <th class=\"blank\" ></th> \n",
       "        <th class=\"blank\" ></th> \n",
       "    </tr></thead> \n",
       "<tbody>    <tr> \n",
       "        <th id=\"T_77619090_2d4c_11e9_8a0f_30243223aefflevel0_row0\" class=\"row_heading level0 row0\" >Male</th> \n",
       "        <td id=\"T_77619090_2d4c_11e9_8a0f_30243223aeffrow0_col0\" class=\"data row0 col0\" >484</td> \n",
       "        <td id=\"T_77619090_2d4c_11e9_8a0f_30243223aeffrow0_col1\" class=\"data row0 col1\" >84.03%</td> \n",
       "    </tr>    <tr> \n",
       "        <th id=\"T_77619090_2d4c_11e9_8a0f_30243223aefflevel0_row1\" class=\"row_heading level0 row1\" >Female</th> \n",
       "        <td id=\"T_77619090_2d4c_11e9_8a0f_30243223aeffrow1_col0\" class=\"data row1 col0\" >81</td> \n",
       "        <td id=\"T_77619090_2d4c_11e9_8a0f_30243223aeffrow1_col1\" class=\"data row1 col1\" >14.06%</td> \n",
       "    </tr>    <tr> \n",
       "        <th id=\"T_77619090_2d4c_11e9_8a0f_30243223aefflevel0_row2\" class=\"row_heading level0 row2\" >Other / Non-Disclosed</th> \n",
       "        <td id=\"T_77619090_2d4c_11e9_8a0f_30243223aeffrow2_col0\" class=\"data row2 col0\" >11</td> \n",
       "        <td id=\"T_77619090_2d4c_11e9_8a0f_30243223aeffrow2_col1\" class=\"data row2 col1\" >1.91%</td> \n",
       "    </tr></tbody> \n",
       "</table> "
      ],
      "text/plain": [
       "<pandas.io.formats.style.Styler at 0x231ff587550>"
      ]
     },
     "execution_count": 182,
     "metadata": {},
     "output_type": "execute_result"
    }
   ],
   "source": [
    "# Find the count and percentage of male players\n",
    "male_count = purchase_data_df[purchase_data_df[\"Gender\"] == \"Male\"][\"SN\"].nunique()\n",
    "male_percentage = (male_count / total_diff_players) * 100\n",
    "\n",
    "# Find the count and percentage of female players\n",
    "female_count = purchase_data_df[purchase_data_df[\"Gender\"] == \"Female\"][\"SN\"].nunique()\n",
    "female_percentage = (female_count / total_diff_players) * 100\n",
    "\n",
    "# Find the count and percentage of other/ Non-Disclosed\n",
    "other_count = total_diff_players - male_count - female_count\n",
    "other_percentage = (other_count / total_diff_players) * 100\n",
    "\n",
    "# Create a DataFrame\n",
    "gender_demographics_df = pd.DataFrame({\"Gender\": [\"Male\", \"Female\", \"Other / Non-Disclosed\"],\n",
    "                                       \"Total Count\": [male_count, female_count, other_count],\n",
    "                                       \"Percentage of Players\": [male_percentage, female_percentage, other_percentage]})\n",
    "\n",
    "# Set index as Gender\n",
    "gender_demographics_df = gender_demographics_df.set_index(\"Gender\")\n",
    "gender_demographics_df.style.format({\"Percentage of Players\": \"{:.2f}%\"})"
   ]
  },
  {
   "cell_type": "markdown",
   "metadata": {},
   "source": [
    "\n",
    "## Purchasing Analysis (Gender)"
   ]
  },
  {
   "cell_type": "markdown",
   "metadata": {},
   "source": [
    "* Run basic calculations to obtain purchase count, avg. purchase price, avg. purchase total per person etc. by gender\n",
    "\n",
    "\n",
    "\n",
    "\n",
    "* Create a summary data frame to hold the results\n",
    "\n",
    "\n",
    "* Optional: give the displayed data cleaner formatting\n",
    "\n",
    "\n",
    "* Display the summary data frame"
   ]
  },
  {
   "cell_type": "code",
   "execution_count": 183,
   "metadata": {},
   "outputs": [
    {
     "data": {
      "text/html": [
       "<style  type=\"text/css\" >\n",
       "</style>  \n",
       "<table id=\"T_7766e582_2d4c_11e9_919a_30243223aeff\" > \n",
       "<thead>    <tr> \n",
       "        <th class=\"blank level0\" ></th> \n",
       "        <th class=\"col_heading level0 col0\" >Purchase Count</th> \n",
       "        <th class=\"col_heading level0 col1\" >Average Purchase Price</th> \n",
       "        <th class=\"col_heading level0 col2\" >Total Purchase Value</th> \n",
       "        <th class=\"col_heading level0 col3\" >Avg Total Purchases per Person</th> \n",
       "    </tr>    <tr> \n",
       "        <th class=\"index_name level0\" >Gender</th> \n",
       "        <th class=\"blank\" ></th> \n",
       "        <th class=\"blank\" ></th> \n",
       "        <th class=\"blank\" ></th> \n",
       "        <th class=\"blank\" ></th> \n",
       "    </tr></thead> \n",
       "<tbody>    <tr> \n",
       "        <th id=\"T_7766e582_2d4c_11e9_919a_30243223aefflevel0_row0\" class=\"row_heading level0 row0\" >Male</th> \n",
       "        <td id=\"T_7766e582_2d4c_11e9_919a_30243223aeffrow0_col0\" class=\"data row0 col0\" >652</td> \n",
       "        <td id=\"T_7766e582_2d4c_11e9_919a_30243223aeffrow0_col1\" class=\"data row0 col1\" >$3.02</td> \n",
       "        <td id=\"T_7766e582_2d4c_11e9_919a_30243223aeffrow0_col2\" class=\"data row0 col2\" >$1967.64</td> \n",
       "        <td id=\"T_7766e582_2d4c_11e9_919a_30243223aeffrow0_col3\" class=\"data row0 col3\" >$4.07</td> \n",
       "    </tr>    <tr> \n",
       "        <th id=\"T_7766e582_2d4c_11e9_919a_30243223aefflevel0_row1\" class=\"row_heading level0 row1\" >Female</th> \n",
       "        <td id=\"T_7766e582_2d4c_11e9_919a_30243223aeffrow1_col0\" class=\"data row1 col0\" >113</td> \n",
       "        <td id=\"T_7766e582_2d4c_11e9_919a_30243223aeffrow1_col1\" class=\"data row1 col1\" >$3.20</td> \n",
       "        <td id=\"T_7766e582_2d4c_11e9_919a_30243223aeffrow1_col2\" class=\"data row1 col2\" >$361.94</td> \n",
       "        <td id=\"T_7766e582_2d4c_11e9_919a_30243223aeffrow1_col3\" class=\"data row1 col3\" >$4.47</td> \n",
       "    </tr>    <tr> \n",
       "        <th id=\"T_7766e582_2d4c_11e9_919a_30243223aefflevel0_row2\" class=\"row_heading level0 row2\" >Other / Non-Disclosed</th> \n",
       "        <td id=\"T_7766e582_2d4c_11e9_919a_30243223aeffrow2_col0\" class=\"data row2 col0\" >15</td> \n",
       "        <td id=\"T_7766e582_2d4c_11e9_919a_30243223aeffrow2_col1\" class=\"data row2 col1\" >$3.35</td> \n",
       "        <td id=\"T_7766e582_2d4c_11e9_919a_30243223aeffrow2_col2\" class=\"data row2 col2\" >$50.19</td> \n",
       "        <td id=\"T_7766e582_2d4c_11e9_919a_30243223aeffrow2_col3\" class=\"data row2 col3\" >$4.56</td> \n",
       "    </tr></tbody> \n",
       "</table> "
      ],
      "text/plain": [
       "<pandas.io.formats.style.Styler at 0x231ff599470>"
      ]
     },
     "execution_count": 183,
     "metadata": {},
     "output_type": "execute_result"
    }
   ],
   "source": [
    "# Find the : purhcase count, average purchase price, average purchase total purchase per person by male\n",
    "male_purchase_count = purchase_data_df[purchase_data_df[\"Gender\"] == \"Male\"][\"Price\"].count()\n",
    "male_price_average =  purchase_data_df[purchase_data_df[\"Gender\"] == \"Male\"][\"Price\"].mean()\n",
    "male_total_purchase = purchase_data_df[purchase_data_df[\"Gender\"] == \"Male\"][\"Price\"].sum()\n",
    "male_average_total_purchase = male_total_purchase / male_count\n",
    "\n",
    "# Find the : purhcase count, average purchase price, average purchase total purchase per person by female\n",
    "female_purchase_count = purchase_data_df[purchase_data_df[\"Gender\"] == \"Female\"][\"Price\"].count()\n",
    "female_price_average =  purchase_data_df[purchase_data_df[\"Gender\"] == \"Female\"][\"Price\"].mean()\n",
    "female_total_purchase = purchase_data_df[purchase_data_df[\"Gender\"] == \"Female\"][\"Price\"].sum()\n",
    "female_average_total_purchase = female_total_purchase / female_count\n",
    "\n",
    "# Find the : purhcase count, average purchase price, average purchase total purchase per person by other / non-disclosed\n",
    "other_purchase_count = purchase_data_df[purchase_data_df[\"Gender\"] == \"Other / Non-Disclosed\"][\"Price\"].count()\n",
    "other_price_average =  purchase_data_df[purchase_data_df[\"Gender\"] == \"Other / Non-Disclosed\"][\"Price\"].mean()\n",
    "other_total_purchase = purchase_data_df[purchase_data_df[\"Gender\"] == \"Other / Non-Disclosed\"][\"Price\"].sum()\n",
    "other_average_total_purchase = other_total_purchase / other_count\n",
    "\n",
    "# Create the DataFrame\n",
    "purchase_analysis_df = pd.DataFrame({\"Gender\": [\"Male\", \"Female\", \"Other / Non-Disclosed\"],\n",
    "                                     \"Purchase Count\": [male_purchase_count, female_purchase_count, other_purchase_count],\n",
    "                                     \"Average Purchase Price\": [male_price_average, female_price_average, other_price_average],\n",
    "                                     \"Total Purchase Value\": [male_total_purchase, female_total_purchase, other_total_purchase],\n",
    "                                     \"Avg Total Purchases per Person\": [male_average_total_purchase, female_average_total_purchase, other_average_total_purchase]})\n",
    "\n",
    "# Set index as Gender\n",
    "purchase_analysis_df = purchase_analysis_df.set_index(\"Gender\")\n",
    "purchase_analysis_df.style.format({\"Average Purchase Price\": \"${:.2f}\",\n",
    "                                   \"Avg Total Purchases per Person\": \"${:.2f}\",\n",
    "                                   \"Total Purchase Value\": \"${:.2f}\",\n",
    "                                   \"Avg Total Purchases per Person\": \"${:.2f}\"})"
   ]
  },
  {
   "cell_type": "markdown",
   "metadata": {},
   "source": [
    "## Age Demographics"
   ]
  },
  {
   "cell_type": "markdown",
   "metadata": {},
   "source": [
    "* Establish bins for ages\n",
    "\n",
    "\n",
    "* Categorize the existing players using the age bins. Hint: use pd.cut()\n",
    "\n",
    "\n",
    "* Calculate the numbers and percentages by age group\n",
    "\n",
    "\n",
    "* Create a summary data frame to hold the results\n",
    "\n",
    "\n",
    "* Optional: round the percentage column to two decimal points\n",
    "\n",
    "\n",
    "* Display Age Demographics Table\n"
   ]
  },
  {
   "cell_type": "code",
   "execution_count": 184,
   "metadata": {},
   "outputs": [
    {
     "data": {
      "text/html": [
       "<style  type=\"text/css\" >\n",
       "</style>  \n",
       "<table id=\"T_776c5e98_2d4c_11e9_a7af_30243223aeff\" > \n",
       "<thead>    <tr> \n",
       "        <th class=\"blank level0\" ></th> \n",
       "        <th class=\"col_heading level0 col0\" >Percentage of Players</th> \n",
       "        <th class=\"col_heading level0 col1\" >Total Count</th> \n",
       "    </tr>    <tr> \n",
       "        <th class=\"index_name level0\" >Age</th> \n",
       "        <th class=\"blank\" ></th> \n",
       "        <th class=\"blank\" ></th> \n",
       "    </tr></thead> \n",
       "<tbody>    <tr> \n",
       "        <th id=\"T_776c5e98_2d4c_11e9_a7af_30243223aefflevel0_row0\" class=\"row_heading level0 row0\" > <10</th> \n",
       "        <td id=\"T_776c5e98_2d4c_11e9_a7af_30243223aeffrow0_col0\" class=\"data row0 col0\" >2.95</td> \n",
       "        <td id=\"T_776c5e98_2d4c_11e9_a7af_30243223aeffrow0_col1\" class=\"data row0 col1\" >17</td> \n",
       "    </tr>    <tr> \n",
       "        <th id=\"T_776c5e98_2d4c_11e9_a7af_30243223aefflevel0_row1\" class=\"row_heading level0 row1\" >10-14</th> \n",
       "        <td id=\"T_776c5e98_2d4c_11e9_a7af_30243223aeffrow1_col0\" class=\"data row1 col0\" >3.82</td> \n",
       "        <td id=\"T_776c5e98_2d4c_11e9_a7af_30243223aeffrow1_col1\" class=\"data row1 col1\" >22</td> \n",
       "    </tr>    <tr> \n",
       "        <th id=\"T_776c5e98_2d4c_11e9_a7af_30243223aefflevel0_row2\" class=\"row_heading level0 row2\" >15-19</th> \n",
       "        <td id=\"T_776c5e98_2d4c_11e9_a7af_30243223aeffrow2_col0\" class=\"data row2 col0\" >18.58</td> \n",
       "        <td id=\"T_776c5e98_2d4c_11e9_a7af_30243223aeffrow2_col1\" class=\"data row2 col1\" >107</td> \n",
       "    </tr>    <tr> \n",
       "        <th id=\"T_776c5e98_2d4c_11e9_a7af_30243223aefflevel0_row3\" class=\"row_heading level0 row3\" >20-24</th> \n",
       "        <td id=\"T_776c5e98_2d4c_11e9_a7af_30243223aeffrow3_col0\" class=\"data row3 col0\" >44.79</td> \n",
       "        <td id=\"T_776c5e98_2d4c_11e9_a7af_30243223aeffrow3_col1\" class=\"data row3 col1\" >258</td> \n",
       "    </tr>    <tr> \n",
       "        <th id=\"T_776c5e98_2d4c_11e9_a7af_30243223aefflevel0_row4\" class=\"row_heading level0 row4\" >25-29</th> \n",
       "        <td id=\"T_776c5e98_2d4c_11e9_a7af_30243223aeffrow4_col0\" class=\"data row4 col0\" >13.37</td> \n",
       "        <td id=\"T_776c5e98_2d4c_11e9_a7af_30243223aeffrow4_col1\" class=\"data row4 col1\" >77</td> \n",
       "    </tr>    <tr> \n",
       "        <th id=\"T_776c5e98_2d4c_11e9_a7af_30243223aefflevel0_row5\" class=\"row_heading level0 row5\" >30-34</th> \n",
       "        <td id=\"T_776c5e98_2d4c_11e9_a7af_30243223aeffrow5_col0\" class=\"data row5 col0\" >9.03</td> \n",
       "        <td id=\"T_776c5e98_2d4c_11e9_a7af_30243223aeffrow5_col1\" class=\"data row5 col1\" >52</td> \n",
       "    </tr>    <tr> \n",
       "        <th id=\"T_776c5e98_2d4c_11e9_a7af_30243223aefflevel0_row6\" class=\"row_heading level0 row6\" >35-39</th> \n",
       "        <td id=\"T_776c5e98_2d4c_11e9_a7af_30243223aeffrow6_col0\" class=\"data row6 col0\" >5.38</td> \n",
       "        <td id=\"T_776c5e98_2d4c_11e9_a7af_30243223aeffrow6_col1\" class=\"data row6 col1\" >31</td> \n",
       "    </tr>    <tr> \n",
       "        <th id=\"T_776c5e98_2d4c_11e9_a7af_30243223aefflevel0_row7\" class=\"row_heading level0 row7\" >40+</th> \n",
       "        <td id=\"T_776c5e98_2d4c_11e9_a7af_30243223aeffrow7_col0\" class=\"data row7 col0\" >2.08</td> \n",
       "        <td id=\"T_776c5e98_2d4c_11e9_a7af_30243223aeffrow7_col1\" class=\"data row7 col1\" >12</td> \n",
       "    </tr></tbody> \n",
       "</table> "
      ],
      "text/plain": [
       "<pandas.io.formats.style.Styler at 0x231ff4e5e48>"
      ]
     },
     "execution_count": 184,
     "metadata": {},
     "output_type": "execute_result"
    }
   ],
   "source": [
    "# Create the bins in which Data will be held\n",
    "bins = [0, 9, 14, 19, 24, 29, 34, 39, 100]\n",
    "\n",
    "# Create names for the bins\n",
    "group_names = [\" <10\", \"10-14\", \"15-19\", \"20-24\", \"25-29\", \"30-34\", \"35-39\", \"40+\" ]\n",
    "\n",
    "# Create a DataFrame\n",
    "purchase_data_df[\"Age\"] = pd.cut(purchase_data_df[\"Age\"], bins, labels = group_names)\n",
    "\n",
    "purchase_data_groupby = purchase_data_df.groupby(\"Age\")\n",
    "\n",
    "# DataFrame for Percentage of Players\n",
    "age_demographic_df = pd.DataFrame(((purchase_data_groupby[\"SN\"].nunique() / total_diff_players) * 100))\n",
    "age_demographic_df = age_demographic_df.rename(columns = {\"SN\": \"Percentage of Players\"})\n",
    "\n",
    "# DataFrame for Total Count\n",
    "total_count_df = pd.DataFrame(purchase_data_groupby[\"SN\"].nunique())\n",
    "total_count_df = total_count_df.rename(columns = {\"SN\": \"Total Count\"})\n",
    "\n",
    "# Merge\n",
    "age_demographic_df = age_demographic_df.merge(total_count_df, on = \"Age\")\n",
    "\n",
    "\n",
    "age_demographic_df.style.format({\"Percentage of Players\": \"{:.2f}\"})"
   ]
  },
  {
   "cell_type": "markdown",
   "metadata": {},
   "source": [
    "## Purchasing Analysis (Age)"
   ]
  },
  {
   "cell_type": "markdown",
   "metadata": {},
   "source": [
    "* Bin the purchase_data data frame by age\n",
    "\n",
    "\n",
    "* Run basic calculations to obtain purchase count, avg. purchase price, avg. purchase total per person etc. in the table below\n",
    "\n",
    "\n",
    "* Create a summary data frame to hold the results\n",
    "\n",
    "\n",
    "* Optional: give the displayed data cleaner formatting\n",
    "\n",
    "\n",
    "* Display the summary data frame"
   ]
  },
  {
   "cell_type": "code",
   "execution_count": null,
   "metadata": {},
   "outputs": [],
   "source": []
  },
  {
   "cell_type": "code",
   "execution_count": null,
   "metadata": {},
   "outputs": [],
   "source": []
  },
  {
   "cell_type": "markdown",
   "metadata": {},
   "source": [
    "## Top Spenders"
   ]
  },
  {
   "cell_type": "markdown",
   "metadata": {},
   "source": [
    "* Run basic calculations to obtain the results in the table below\n",
    "\n",
    "\n",
    "* Create a summary data frame to hold the results\n",
    "\n",
    "\n",
    "* Sort the total purchase value column in descending order\n",
    "\n",
    "\n",
    "* Optional: give the displayed data cleaner formatting\n",
    "\n",
    "\n",
    "* Display a preview of the summary data frame\n",
    "\n"
   ]
  },
  {
   "cell_type": "code",
   "execution_count": null,
   "metadata": {},
   "outputs": [],
   "source": []
  },
  {
   "cell_type": "code",
   "execution_count": null,
   "metadata": {},
   "outputs": [],
   "source": []
  },
  {
   "cell_type": "markdown",
   "metadata": {},
   "source": [
    "## Most Popular Items"
   ]
  },
  {
   "cell_type": "markdown",
   "metadata": {},
   "source": [
    "* Retrieve the Item ID, Item Name, and Item Price columns\n",
    "\n",
    "\n",
    "* Group by Item ID and Item Name. Perform calculations to obtain purchase count, item price, and total purchase value\n",
    "\n",
    "\n",
    "* Create a summary data frame to hold the results\n",
    "\n",
    "\n",
    "* Sort the purchase count column in descending order\n",
    "\n",
    "\n",
    "* Optional: give the displayed data cleaner formatting\n",
    "\n",
    "\n",
    "* Display a preview of the summary data frame\n",
    "\n"
   ]
  },
  {
   "cell_type": "code",
   "execution_count": null,
   "metadata": {},
   "outputs": [],
   "source": []
  },
  {
   "cell_type": "code",
   "execution_count": null,
   "metadata": {},
   "outputs": [],
   "source": []
  },
  {
   "cell_type": "markdown",
   "metadata": {},
   "source": [
    "## Most Profitable Items"
   ]
  },
  {
   "cell_type": "markdown",
   "metadata": {},
   "source": [
    "* Sort the above table by total purchase value in descending order\n",
    "\n",
    "\n",
    "* Optional: give the displayed data cleaner formatting\n",
    "\n",
    "\n",
    "* Display a preview of the data frame\n",
    "\n"
   ]
  },
  {
   "cell_type": "code",
   "execution_count": null,
   "metadata": {
    "scrolled": true
   },
   "outputs": [],
   "source": []
  },
  {
   "cell_type": "code",
   "execution_count": null,
   "metadata": {
    "scrolled": true
   },
   "outputs": [],
   "source": []
  }
 ],
 "metadata": {
  "anaconda-cloud": {},
  "kernel_info": {
   "name": "python3"
  },
  "kernelspec": {
   "display_name": "Python [conda env:PythonData]",
   "language": "python",
   "name": "conda-env-PythonData-py"
  },
  "language_info": {
   "codemirror_mode": {
    "name": "ipython",
    "version": 3
   },
   "file_extension": ".py",
   "mimetype": "text/x-python",
   "name": "python",
   "nbconvert_exporter": "python",
   "pygments_lexer": "ipython3",
   "version": "3.6.7"
  },
  "nteract": {
   "version": "0.2.0"
  }
 },
 "nbformat": 4,
 "nbformat_minor": 2
}
